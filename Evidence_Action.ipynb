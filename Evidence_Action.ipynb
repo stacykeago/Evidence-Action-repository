{
  "nbformat": 4,
  "nbformat_minor": 0,
  "metadata": {
    "colab": {
      "name": "Evidence Action",
      "provenance": [],
      "authorship_tag": "ABX9TyMqnz8pJRMl0pkI1N7dWa7o",
      "include_colab_link": true
    },
    "kernelspec": {
      "name": "python3",
      "display_name": "Python 3"
    },
    "language_info": {
      "name": "python"
    }
  },
  "cells": [
    {
      "cell_type": "markdown",
      "metadata": {
        "id": "view-in-github",
        "colab_type": "text"
      },
      "source": [
        "<a href=\"https://colab.research.google.com/github/stacykeago/Evidence-Action-repository/blob/main/Evidence_Action.ipynb\" target=\"_parent\"><img src=\"https://colab.research.google.com/assets/colab-badge.svg\" alt=\"Open In Colab\"/></a>"
      ]
    },
    {
      "cell_type": "markdown",
      "source": [
        "# DATA CLEANING"
      ],
      "metadata": {
        "id": "cPO7atb3SXuy"
      }
    },
    {
      "cell_type": "markdown",
      "source": [
        "## Import libraries"
      ],
      "metadata": {
        "id": "31k5Oemb9WEx"
      }
    },
    {
      "cell_type": "code",
      "source": [
        "# Import libraries\n",
        "import numpy as np\n",
        "import pandas as pd"
      ],
      "metadata": {
        "id": "yU1mQy6g8of8"
      },
      "execution_count": 81,
      "outputs": []
    },
    {
      "cell_type": "markdown",
      "source": [
        "## Load Datasets"
      ],
      "metadata": {
        "id": "HRyq7Uqo9fCh"
      }
    },
    {
      "cell_type": "code",
      "source": [
        "# load the dataset\n",
        "mock= pd.read_excel(\"/content/MOCK_DATA.xlsx\")\n",
        "mock.head()"
      ],
      "metadata": {
        "id": "QpymdmAU9ioA",
        "colab": {
          "base_uri": "https://localhost:8080/",
          "height": 0
        },
        "outputId": "6b95b962-5b05-4457-8b31-b97958fd5946"
      },
      "execution_count": 82,
      "outputs": [
        {
          "output_type": "execute_result",
          "data": {
            "text/plain": [
              "              ID                          Wpt_Name     County     Subcounty  \\\n",
              "0  341-074-EH498                    Aufderhar-Bins    Fenshui           NaN   \n",
              "1  562-184-QY233                          Von-Kuhn  Chengyang         Qilin   \n",
              "2  242-833-HC888                       Leannon LLC      Kista     ItajuÃ­pe   \n",
              "3  773-513-LI203  Prohaska, VonRueden and Franecki       Hexi      Portumna   \n",
              "4  933-270-VD590                  McClure and Sons   Carvalho  DziÄ™gielÃ³w   \n",
              "\n",
              "       Gender       IP_Adress     Barcode  dispenser_install_year   program  \n",
              "0    Bigender    99-35-53-139   42283-004                  1993.0  Kibuku 1  \n",
              "1      Female    99-220-88-86   45802-132                  1998.0  Kibuku 2  \n",
              "2  Polygender  99-158-200-170   59676-562                  1996.0  Kibuku 3  \n",
              "3        Male  99-131-237-138   49035-154                  1992.0  Kibuku 4  \n",
              "4      Female   98-86-173-226  55154-4727                  2008.0  Kibuku 2  "
            ],
            "text/html": [
              "\n",
              "  <div id=\"df-55fdf903-3fa7-4cb8-82d1-c426ddbd251a\">\n",
              "    <div class=\"colab-df-container\">\n",
              "      <div>\n",
              "<style scoped>\n",
              "    .dataframe tbody tr th:only-of-type {\n",
              "        vertical-align: middle;\n",
              "    }\n",
              "\n",
              "    .dataframe tbody tr th {\n",
              "        vertical-align: top;\n",
              "    }\n",
              "\n",
              "    .dataframe thead th {\n",
              "        text-align: right;\n",
              "    }\n",
              "</style>\n",
              "<table border=\"1\" class=\"dataframe\">\n",
              "  <thead>\n",
              "    <tr style=\"text-align: right;\">\n",
              "      <th></th>\n",
              "      <th>ID</th>\n",
              "      <th>Wpt_Name</th>\n",
              "      <th>County</th>\n",
              "      <th>Subcounty</th>\n",
              "      <th>Gender</th>\n",
              "      <th>IP_Adress</th>\n",
              "      <th>Barcode</th>\n",
              "      <th>dispenser_install_year</th>\n",
              "      <th>program</th>\n",
              "    </tr>\n",
              "  </thead>\n",
              "  <tbody>\n",
              "    <tr>\n",
              "      <th>0</th>\n",
              "      <td>341-074-EH498</td>\n",
              "      <td>Aufderhar-Bins</td>\n",
              "      <td>Fenshui</td>\n",
              "      <td>NaN</td>\n",
              "      <td>Bigender</td>\n",
              "      <td>99-35-53-139</td>\n",
              "      <td>42283-004</td>\n",
              "      <td>1993.0</td>\n",
              "      <td>Kibuku 1</td>\n",
              "    </tr>\n",
              "    <tr>\n",
              "      <th>1</th>\n",
              "      <td>562-184-QY233</td>\n",
              "      <td>Von-Kuhn</td>\n",
              "      <td>Chengyang</td>\n",
              "      <td>Qilin</td>\n",
              "      <td>Female</td>\n",
              "      <td>99-220-88-86</td>\n",
              "      <td>45802-132</td>\n",
              "      <td>1998.0</td>\n",
              "      <td>Kibuku 2</td>\n",
              "    </tr>\n",
              "    <tr>\n",
              "      <th>2</th>\n",
              "      <td>242-833-HC888</td>\n",
              "      <td>Leannon LLC</td>\n",
              "      <td>Kista</td>\n",
              "      <td>ItajuÃ­pe</td>\n",
              "      <td>Polygender</td>\n",
              "      <td>99-158-200-170</td>\n",
              "      <td>59676-562</td>\n",
              "      <td>1996.0</td>\n",
              "      <td>Kibuku 3</td>\n",
              "    </tr>\n",
              "    <tr>\n",
              "      <th>3</th>\n",
              "      <td>773-513-LI203</td>\n",
              "      <td>Prohaska, VonRueden and Franecki</td>\n",
              "      <td>Hexi</td>\n",
              "      <td>Portumna</td>\n",
              "      <td>Male</td>\n",
              "      <td>99-131-237-138</td>\n",
              "      <td>49035-154</td>\n",
              "      <td>1992.0</td>\n",
              "      <td>Kibuku 4</td>\n",
              "    </tr>\n",
              "    <tr>\n",
              "      <th>4</th>\n",
              "      <td>933-270-VD590</td>\n",
              "      <td>McClure and Sons</td>\n",
              "      <td>Carvalho</td>\n",
              "      <td>DziÄ™gielÃ³w</td>\n",
              "      <td>Female</td>\n",
              "      <td>98-86-173-226</td>\n",
              "      <td>55154-4727</td>\n",
              "      <td>2008.0</td>\n",
              "      <td>Kibuku 2</td>\n",
              "    </tr>\n",
              "  </tbody>\n",
              "</table>\n",
              "</div>\n",
              "      <button class=\"colab-df-convert\" onclick=\"convertToInteractive('df-55fdf903-3fa7-4cb8-82d1-c426ddbd251a')\"\n",
              "              title=\"Convert this dataframe to an interactive table.\"\n",
              "              style=\"display:none;\">\n",
              "        \n",
              "  <svg xmlns=\"http://www.w3.org/2000/svg\" height=\"24px\"viewBox=\"0 0 24 24\"\n",
              "       width=\"24px\">\n",
              "    <path d=\"M0 0h24v24H0V0z\" fill=\"none\"/>\n",
              "    <path d=\"M18.56 5.44l.94 2.06.94-2.06 2.06-.94-2.06-.94-.94-2.06-.94 2.06-2.06.94zm-11 1L8.5 8.5l.94-2.06 2.06-.94-2.06-.94L8.5 2.5l-.94 2.06-2.06.94zm10 10l.94 2.06.94-2.06 2.06-.94-2.06-.94-.94-2.06-.94 2.06-2.06.94z\"/><path d=\"M17.41 7.96l-1.37-1.37c-.4-.4-.92-.59-1.43-.59-.52 0-1.04.2-1.43.59L10.3 9.45l-7.72 7.72c-.78.78-.78 2.05 0 2.83L4 21.41c.39.39.9.59 1.41.59.51 0 1.02-.2 1.41-.59l7.78-7.78 2.81-2.81c.8-.78.8-2.07 0-2.86zM5.41 20L4 18.59l7.72-7.72 1.47 1.35L5.41 20z\"/>\n",
              "  </svg>\n",
              "      </button>\n",
              "      \n",
              "  <style>\n",
              "    .colab-df-container {\n",
              "      display:flex;\n",
              "      flex-wrap:wrap;\n",
              "      gap: 12px;\n",
              "    }\n",
              "\n",
              "    .colab-df-convert {\n",
              "      background-color: #E8F0FE;\n",
              "      border: none;\n",
              "      border-radius: 50%;\n",
              "      cursor: pointer;\n",
              "      display: none;\n",
              "      fill: #1967D2;\n",
              "      height: 32px;\n",
              "      padding: 0 0 0 0;\n",
              "      width: 32px;\n",
              "    }\n",
              "\n",
              "    .colab-df-convert:hover {\n",
              "      background-color: #E2EBFA;\n",
              "      box-shadow: 0px 1px 2px rgba(60, 64, 67, 0.3), 0px 1px 3px 1px rgba(60, 64, 67, 0.15);\n",
              "      fill: #174EA6;\n",
              "    }\n",
              "\n",
              "    [theme=dark] .colab-df-convert {\n",
              "      background-color: #3B4455;\n",
              "      fill: #D2E3FC;\n",
              "    }\n",
              "\n",
              "    [theme=dark] .colab-df-convert:hover {\n",
              "      background-color: #434B5C;\n",
              "      box-shadow: 0px 1px 3px 1px rgba(0, 0, 0, 0.15);\n",
              "      filter: drop-shadow(0px 1px 2px rgba(0, 0, 0, 0.3));\n",
              "      fill: #FFFFFF;\n",
              "    }\n",
              "  </style>\n",
              "\n",
              "      <script>\n",
              "        const buttonEl =\n",
              "          document.querySelector('#df-55fdf903-3fa7-4cb8-82d1-c426ddbd251a button.colab-df-convert');\n",
              "        buttonEl.style.display =\n",
              "          google.colab.kernel.accessAllowed ? 'block' : 'none';\n",
              "\n",
              "        async function convertToInteractive(key) {\n",
              "          const element = document.querySelector('#df-55fdf903-3fa7-4cb8-82d1-c426ddbd251a');\n",
              "          const dataTable =\n",
              "            await google.colab.kernel.invokeFunction('convertToInteractive',\n",
              "                                                     [key], {});\n",
              "          if (!dataTable) return;\n",
              "\n",
              "          const docLinkHtml = 'Like what you see? Visit the ' +\n",
              "            '<a target=\"_blank\" href=https://colab.research.google.com/notebooks/data_table.ipynb>data table notebook</a>'\n",
              "            + ' to learn more about interactive tables.';\n",
              "          element.innerHTML = '';\n",
              "          dataTable['output_type'] = 'display_data';\n",
              "          await google.colab.output.renderOutput(dataTable, element);\n",
              "          const docLink = document.createElement('div');\n",
              "          docLink.innerHTML = docLinkHtml;\n",
              "          element.appendChild(docLink);\n",
              "        }\n",
              "      </script>\n",
              "    </div>\n",
              "  </div>\n",
              "  "
            ]
          },
          "metadata": {},
          "execution_count": 82
        }
      ]
    },
    {
      "cell_type": "code",
      "source": [
        "mock.columns"
      ],
      "metadata": {
        "colab": {
          "base_uri": "https://localhost:8080/"
        },
        "id": "DlHSBMkUTC6k",
        "outputId": "b4bbcedc-9995-43d0-cce3-49e4e34e13ab"
      },
      "execution_count": 83,
      "outputs": [
        {
          "output_type": "execute_result",
          "data": {
            "text/plain": [
              "Index(['ID', 'Wpt_Name', 'County', 'Subcounty', 'Gender', 'IP_Adress',\n",
              "       'Barcode', 'dispenser_install_year', 'program'],\n",
              "      dtype='object')"
            ]
          },
          "metadata": {},
          "execution_count": 83
        }
      ]
    },
    {
      "cell_type": "markdown",
      "source": [
        "# 2. Change the font case for all text variables data to small i.e small letter "
      ],
      "metadata": {
        "id": "yOjIPoc3fCsW"
      }
    },
    {
      "cell_type": "code",
      "source": [
        "# Change all  non-numerical data to lowercase\n",
        "#small_caps= ['ID', 'Wpt_Name', 'County', 'Subcounty', 'Gender',  'program']]\n",
        "mock['ID']= mock['ID'].str.lower()\n",
        "mock['Wpt_Name']= mock['Wpt_Name'].str.lower()\n",
        "mock['County']= mock['County'].str.lower()\n",
        "mock['Subcounty']= mock['Subcounty'].str.lower()\n",
        "mock['Gender']= mock['Gender'].str.lower()\n",
        "mock['program']= mock['program'].str.lower()"
      ],
      "metadata": {
        "id": "7UA1_q8sUY7L"
      },
      "execution_count": 84,
      "outputs": []
    },
    {
      "cell_type": "code",
      "source": [
        "mock.head()"
      ],
      "metadata": {
        "colab": {
          "base_uri": "https://localhost:8080/",
          "height": 0
        },
        "id": "FDkCmwChYmRY",
        "outputId": "0e790977-fbcf-4d44-8ea5-a1b62702763e"
      },
      "execution_count": 85,
      "outputs": [
        {
          "output_type": "execute_result",
          "data": {
            "text/plain": [
              "              ID                          Wpt_Name     County     Subcounty  \\\n",
              "0  341-074-eh498                    aufderhar-bins    fenshui           NaN   \n",
              "1  562-184-qy233                          von-kuhn  chengyang         qilin   \n",
              "2  242-833-hc888                       leannon llc      kista     itajuã­pe   \n",
              "3  773-513-li203  prohaska, vonrueden and franecki       hexi      portumna   \n",
              "4  933-270-vd590                  mcclure and sons   carvalho  dziä™gielã³w   \n",
              "\n",
              "       Gender       IP_Adress     Barcode  dispenser_install_year   program  \n",
              "0    bigender    99-35-53-139   42283-004                  1993.0  kibuku 1  \n",
              "1      female    99-220-88-86   45802-132                  1998.0  kibuku 2  \n",
              "2  polygender  99-158-200-170   59676-562                  1996.0  kibuku 3  \n",
              "3        male  99-131-237-138   49035-154                  1992.0  kibuku 4  \n",
              "4      female   98-86-173-226  55154-4727                  2008.0  kibuku 2  "
            ],
            "text/html": [
              "\n",
              "  <div id=\"df-a343af4d-5964-476b-b008-c19e5fdd4ead\">\n",
              "    <div class=\"colab-df-container\">\n",
              "      <div>\n",
              "<style scoped>\n",
              "    .dataframe tbody tr th:only-of-type {\n",
              "        vertical-align: middle;\n",
              "    }\n",
              "\n",
              "    .dataframe tbody tr th {\n",
              "        vertical-align: top;\n",
              "    }\n",
              "\n",
              "    .dataframe thead th {\n",
              "        text-align: right;\n",
              "    }\n",
              "</style>\n",
              "<table border=\"1\" class=\"dataframe\">\n",
              "  <thead>\n",
              "    <tr style=\"text-align: right;\">\n",
              "      <th></th>\n",
              "      <th>ID</th>\n",
              "      <th>Wpt_Name</th>\n",
              "      <th>County</th>\n",
              "      <th>Subcounty</th>\n",
              "      <th>Gender</th>\n",
              "      <th>IP_Adress</th>\n",
              "      <th>Barcode</th>\n",
              "      <th>dispenser_install_year</th>\n",
              "      <th>program</th>\n",
              "    </tr>\n",
              "  </thead>\n",
              "  <tbody>\n",
              "    <tr>\n",
              "      <th>0</th>\n",
              "      <td>341-074-eh498</td>\n",
              "      <td>aufderhar-bins</td>\n",
              "      <td>fenshui</td>\n",
              "      <td>NaN</td>\n",
              "      <td>bigender</td>\n",
              "      <td>99-35-53-139</td>\n",
              "      <td>42283-004</td>\n",
              "      <td>1993.0</td>\n",
              "      <td>kibuku 1</td>\n",
              "    </tr>\n",
              "    <tr>\n",
              "      <th>1</th>\n",
              "      <td>562-184-qy233</td>\n",
              "      <td>von-kuhn</td>\n",
              "      <td>chengyang</td>\n",
              "      <td>qilin</td>\n",
              "      <td>female</td>\n",
              "      <td>99-220-88-86</td>\n",
              "      <td>45802-132</td>\n",
              "      <td>1998.0</td>\n",
              "      <td>kibuku 2</td>\n",
              "    </tr>\n",
              "    <tr>\n",
              "      <th>2</th>\n",
              "      <td>242-833-hc888</td>\n",
              "      <td>leannon llc</td>\n",
              "      <td>kista</td>\n",
              "      <td>itajuã­pe</td>\n",
              "      <td>polygender</td>\n",
              "      <td>99-158-200-170</td>\n",
              "      <td>59676-562</td>\n",
              "      <td>1996.0</td>\n",
              "      <td>kibuku 3</td>\n",
              "    </tr>\n",
              "    <tr>\n",
              "      <th>3</th>\n",
              "      <td>773-513-li203</td>\n",
              "      <td>prohaska, vonrueden and franecki</td>\n",
              "      <td>hexi</td>\n",
              "      <td>portumna</td>\n",
              "      <td>male</td>\n",
              "      <td>99-131-237-138</td>\n",
              "      <td>49035-154</td>\n",
              "      <td>1992.0</td>\n",
              "      <td>kibuku 4</td>\n",
              "    </tr>\n",
              "    <tr>\n",
              "      <th>4</th>\n",
              "      <td>933-270-vd590</td>\n",
              "      <td>mcclure and sons</td>\n",
              "      <td>carvalho</td>\n",
              "      <td>dziä™gielã³w</td>\n",
              "      <td>female</td>\n",
              "      <td>98-86-173-226</td>\n",
              "      <td>55154-4727</td>\n",
              "      <td>2008.0</td>\n",
              "      <td>kibuku 2</td>\n",
              "    </tr>\n",
              "  </tbody>\n",
              "</table>\n",
              "</div>\n",
              "      <button class=\"colab-df-convert\" onclick=\"convertToInteractive('df-a343af4d-5964-476b-b008-c19e5fdd4ead')\"\n",
              "              title=\"Convert this dataframe to an interactive table.\"\n",
              "              style=\"display:none;\">\n",
              "        \n",
              "  <svg xmlns=\"http://www.w3.org/2000/svg\" height=\"24px\"viewBox=\"0 0 24 24\"\n",
              "       width=\"24px\">\n",
              "    <path d=\"M0 0h24v24H0V0z\" fill=\"none\"/>\n",
              "    <path d=\"M18.56 5.44l.94 2.06.94-2.06 2.06-.94-2.06-.94-.94-2.06-.94 2.06-2.06.94zm-11 1L8.5 8.5l.94-2.06 2.06-.94-2.06-.94L8.5 2.5l-.94 2.06-2.06.94zm10 10l.94 2.06.94-2.06 2.06-.94-2.06-.94-.94-2.06-.94 2.06-2.06.94z\"/><path d=\"M17.41 7.96l-1.37-1.37c-.4-.4-.92-.59-1.43-.59-.52 0-1.04.2-1.43.59L10.3 9.45l-7.72 7.72c-.78.78-.78 2.05 0 2.83L4 21.41c.39.39.9.59 1.41.59.51 0 1.02-.2 1.41-.59l7.78-7.78 2.81-2.81c.8-.78.8-2.07 0-2.86zM5.41 20L4 18.59l7.72-7.72 1.47 1.35L5.41 20z\"/>\n",
              "  </svg>\n",
              "      </button>\n",
              "      \n",
              "  <style>\n",
              "    .colab-df-container {\n",
              "      display:flex;\n",
              "      flex-wrap:wrap;\n",
              "      gap: 12px;\n",
              "    }\n",
              "\n",
              "    .colab-df-convert {\n",
              "      background-color: #E8F0FE;\n",
              "      border: none;\n",
              "      border-radius: 50%;\n",
              "      cursor: pointer;\n",
              "      display: none;\n",
              "      fill: #1967D2;\n",
              "      height: 32px;\n",
              "      padding: 0 0 0 0;\n",
              "      width: 32px;\n",
              "    }\n",
              "\n",
              "    .colab-df-convert:hover {\n",
              "      background-color: #E2EBFA;\n",
              "      box-shadow: 0px 1px 2px rgba(60, 64, 67, 0.3), 0px 1px 3px 1px rgba(60, 64, 67, 0.15);\n",
              "      fill: #174EA6;\n",
              "    }\n",
              "\n",
              "    [theme=dark] .colab-df-convert {\n",
              "      background-color: #3B4455;\n",
              "      fill: #D2E3FC;\n",
              "    }\n",
              "\n",
              "    [theme=dark] .colab-df-convert:hover {\n",
              "      background-color: #434B5C;\n",
              "      box-shadow: 0px 1px 3px 1px rgba(0, 0, 0, 0.15);\n",
              "      filter: drop-shadow(0px 1px 2px rgba(0, 0, 0, 0.3));\n",
              "      fill: #FFFFFF;\n",
              "    }\n",
              "  </style>\n",
              "\n",
              "      <script>\n",
              "        const buttonEl =\n",
              "          document.querySelector('#df-a343af4d-5964-476b-b008-c19e5fdd4ead button.colab-df-convert');\n",
              "        buttonEl.style.display =\n",
              "          google.colab.kernel.accessAllowed ? 'block' : 'none';\n",
              "\n",
              "        async function convertToInteractive(key) {\n",
              "          const element = document.querySelector('#df-a343af4d-5964-476b-b008-c19e5fdd4ead');\n",
              "          const dataTable =\n",
              "            await google.colab.kernel.invokeFunction('convertToInteractive',\n",
              "                                                     [key], {});\n",
              "          if (!dataTable) return;\n",
              "\n",
              "          const docLinkHtml = 'Like what you see? Visit the ' +\n",
              "            '<a target=\"_blank\" href=https://colab.research.google.com/notebooks/data_table.ipynb>data table notebook</a>'\n",
              "            + ' to learn more about interactive tables.';\n",
              "          element.innerHTML = '';\n",
              "          dataTable['output_type'] = 'display_data';\n",
              "          await google.colab.output.renderOutput(dataTable, element);\n",
              "          const docLink = document.createElement('div');\n",
              "          docLink.innerHTML = docLinkHtml;\n",
              "          element.appendChild(docLink);\n",
              "        }\n",
              "      </script>\n",
              "    </div>\n",
              "  </div>\n",
              "  "
            ]
          },
          "metadata": {},
          "execution_count": 85
        }
      ]
    },
    {
      "cell_type": "markdown",
      "source": [
        "# 3. Drop observations that are missing data for id and Barcode "
      ],
      "metadata": {
        "id": "IyMlhWW7fYnD"
      }
    },
    {
      "cell_type": "code",
      "source": [
        "# Drop null values from \"Barcode\" column\n",
        "mock1 = mock[mock[ 'Barcode'].notna()]\n",
        "mock1.isnull().sum()"
      ],
      "metadata": {
        "colab": {
          "base_uri": "https://localhost:8080/"
        },
        "id": "2koq1g8x_M4j",
        "outputId": "96e72256-befb-49a3-c4a8-0958410a1ba1"
      },
      "execution_count": 86,
      "outputs": [
        {
          "output_type": "execute_result",
          "data": {
            "text/plain": [
              "ID                        31\n",
              "Wpt_Name                   0\n",
              "County                     0\n",
              "Subcounty                 98\n",
              "Gender                     0\n",
              "IP_Adress                  0\n",
              "Barcode                    0\n",
              "dispenser_install_year     0\n",
              "program                    0\n",
              "dtype: int64"
            ]
          },
          "metadata": {},
          "execution_count": 86
        }
      ]
    },
    {
      "cell_type": "code",
      "source": [
        "# Drop null values from \"ID\" column\n",
        "mock2 = mock1[mock1[ 'ID'].notna()]\n",
        "mock2.isnull().sum()"
      ],
      "metadata": {
        "colab": {
          "base_uri": "https://localhost:8080/"
        },
        "id": "ZLEi8kls_QcJ",
        "outputId": "3812ab57-9aed-4b81-c472-058ac22db8b9"
      },
      "execution_count": 87,
      "outputs": [
        {
          "output_type": "execute_result",
          "data": {
            "text/plain": [
              "ID                         0\n",
              "Wpt_Name                   0\n",
              "County                     0\n",
              "Subcounty                 92\n",
              "Gender                     0\n",
              "IP_Adress                  0\n",
              "Barcode                    0\n",
              "dispenser_install_year     0\n",
              "program                    0\n",
              "dtype: int64"
            ]
          },
          "metadata": {},
          "execution_count": 87
        }
      ]
    },
    {
      "cell_type": "markdown",
      "source": [
        "# 4. Calculate the mean and median years a dispenser has been installed at the waterpoint for the  remaining waterpoints (variable: dispenser_install_year) "
      ],
      "metadata": {
        "id": "dnPwvYmeO2zC"
      }
    },
    {
      "cell_type": "markdown",
      "source": [
        "## Mean"
      ],
      "metadata": {
        "id": "OWgEg2z2O6XQ"
      }
    },
    {
      "cell_type": "code",
      "source": [
        "\n",
        "mock[\"dispenser_install_year\"].mean()"
      ],
      "metadata": {
        "colab": {
          "base_uri": "https://localhost:8080/"
        },
        "id": "7AY0bu8oOOLO",
        "outputId": "203de334-2090-4beb-a399-582e0f09bd89"
      },
      "execution_count": 88,
      "outputs": [
        {
          "output_type": "execute_result",
          "data": {
            "text/plain": [
              "2000.361497326203"
            ]
          },
          "metadata": {},
          "execution_count": 88
        }
      ]
    },
    {
      "cell_type": "markdown",
      "source": [
        "## Median"
      ],
      "metadata": {
        "id": "6foDVWbtO9FH"
      }
    },
    {
      "cell_type": "code",
      "source": [
        "mock[\"dispenser_install_year\"].median()"
      ],
      "metadata": {
        "colab": {
          "base_uri": "https://localhost:8080/"
        },
        "id": "ePHhzKAFOujb",
        "outputId": "2eec6928-4c42-45c7-87d6-91eb0f0282fb"
      },
      "execution_count": 89,
      "outputs": [
        {
          "output_type": "execute_result",
          "data": {
            "text/plain": [
              "2002.0"
            ]
          },
          "metadata": {},
          "execution_count": 89
        }
      ]
    },
    {
      "cell_type": "markdown",
      "source": [
        ""
      ],
      "metadata": {
        "id": "KF1ZzjY37tQq"
      }
    },
    {
      "cell_type": "markdown",
      "source": [
        ""
      ],
      "metadata": {
        "id": "Kk8p2_Rb71UA"
      }
    },
    {
      "cell_type": "markdown",
      "source": [
        "# 5. Ensure that the separators for the id, address and barcode is a hyphen (-) "
      ],
      "metadata": {
        "id": "Y3m-4YsI7zJo"
      }
    },
    {
      "cell_type": "code",
      "source": [
        "mock.head()"
      ],
      "metadata": {
        "colab": {
          "base_uri": "https://localhost:8080/",
          "height": 206
        },
        "id": "KRNImgzU9Bxp",
        "outputId": "ad1f525e-8b2e-49fc-b4f2-c7cfc441cc6e"
      },
      "execution_count": 90,
      "outputs": [
        {
          "output_type": "execute_result",
          "data": {
            "text/plain": [
              "              ID                          Wpt_Name     County     Subcounty  \\\n",
              "0  341-074-eh498                    aufderhar-bins    fenshui           NaN   \n",
              "1  562-184-qy233                          von-kuhn  chengyang         qilin   \n",
              "2  242-833-hc888                       leannon llc      kista     itajuã­pe   \n",
              "3  773-513-li203  prohaska, vonrueden and franecki       hexi      portumna   \n",
              "4  933-270-vd590                  mcclure and sons   carvalho  dziä™gielã³w   \n",
              "\n",
              "       Gender       IP_Adress     Barcode  dispenser_install_year   program  \n",
              "0    bigender    99-35-53-139   42283-004                  1993.0  kibuku 1  \n",
              "1      female    99-220-88-86   45802-132                  1998.0  kibuku 2  \n",
              "2  polygender  99-158-200-170   59676-562                  1996.0  kibuku 3  \n",
              "3        male  99-131-237-138   49035-154                  1992.0  kibuku 4  \n",
              "4      female   98-86-173-226  55154-4727                  2008.0  kibuku 2  "
            ],
            "text/html": [
              "\n",
              "  <div id=\"df-e5e91e2f-1b5d-47e8-93f2-7824d3864c66\">\n",
              "    <div class=\"colab-df-container\">\n",
              "      <div>\n",
              "<style scoped>\n",
              "    .dataframe tbody tr th:only-of-type {\n",
              "        vertical-align: middle;\n",
              "    }\n",
              "\n",
              "    .dataframe tbody tr th {\n",
              "        vertical-align: top;\n",
              "    }\n",
              "\n",
              "    .dataframe thead th {\n",
              "        text-align: right;\n",
              "    }\n",
              "</style>\n",
              "<table border=\"1\" class=\"dataframe\">\n",
              "  <thead>\n",
              "    <tr style=\"text-align: right;\">\n",
              "      <th></th>\n",
              "      <th>ID</th>\n",
              "      <th>Wpt_Name</th>\n",
              "      <th>County</th>\n",
              "      <th>Subcounty</th>\n",
              "      <th>Gender</th>\n",
              "      <th>IP_Adress</th>\n",
              "      <th>Barcode</th>\n",
              "      <th>dispenser_install_year</th>\n",
              "      <th>program</th>\n",
              "    </tr>\n",
              "  </thead>\n",
              "  <tbody>\n",
              "    <tr>\n",
              "      <th>0</th>\n",
              "      <td>341-074-eh498</td>\n",
              "      <td>aufderhar-bins</td>\n",
              "      <td>fenshui</td>\n",
              "      <td>NaN</td>\n",
              "      <td>bigender</td>\n",
              "      <td>99-35-53-139</td>\n",
              "      <td>42283-004</td>\n",
              "      <td>1993.0</td>\n",
              "      <td>kibuku 1</td>\n",
              "    </tr>\n",
              "    <tr>\n",
              "      <th>1</th>\n",
              "      <td>562-184-qy233</td>\n",
              "      <td>von-kuhn</td>\n",
              "      <td>chengyang</td>\n",
              "      <td>qilin</td>\n",
              "      <td>female</td>\n",
              "      <td>99-220-88-86</td>\n",
              "      <td>45802-132</td>\n",
              "      <td>1998.0</td>\n",
              "      <td>kibuku 2</td>\n",
              "    </tr>\n",
              "    <tr>\n",
              "      <th>2</th>\n",
              "      <td>242-833-hc888</td>\n",
              "      <td>leannon llc</td>\n",
              "      <td>kista</td>\n",
              "      <td>itajuã­pe</td>\n",
              "      <td>polygender</td>\n",
              "      <td>99-158-200-170</td>\n",
              "      <td>59676-562</td>\n",
              "      <td>1996.0</td>\n",
              "      <td>kibuku 3</td>\n",
              "    </tr>\n",
              "    <tr>\n",
              "      <th>3</th>\n",
              "      <td>773-513-li203</td>\n",
              "      <td>prohaska, vonrueden and franecki</td>\n",
              "      <td>hexi</td>\n",
              "      <td>portumna</td>\n",
              "      <td>male</td>\n",
              "      <td>99-131-237-138</td>\n",
              "      <td>49035-154</td>\n",
              "      <td>1992.0</td>\n",
              "      <td>kibuku 4</td>\n",
              "    </tr>\n",
              "    <tr>\n",
              "      <th>4</th>\n",
              "      <td>933-270-vd590</td>\n",
              "      <td>mcclure and sons</td>\n",
              "      <td>carvalho</td>\n",
              "      <td>dziä™gielã³w</td>\n",
              "      <td>female</td>\n",
              "      <td>98-86-173-226</td>\n",
              "      <td>55154-4727</td>\n",
              "      <td>2008.0</td>\n",
              "      <td>kibuku 2</td>\n",
              "    </tr>\n",
              "  </tbody>\n",
              "</table>\n",
              "</div>\n",
              "      <button class=\"colab-df-convert\" onclick=\"convertToInteractive('df-e5e91e2f-1b5d-47e8-93f2-7824d3864c66')\"\n",
              "              title=\"Convert this dataframe to an interactive table.\"\n",
              "              style=\"display:none;\">\n",
              "        \n",
              "  <svg xmlns=\"http://www.w3.org/2000/svg\" height=\"24px\"viewBox=\"0 0 24 24\"\n",
              "       width=\"24px\">\n",
              "    <path d=\"M0 0h24v24H0V0z\" fill=\"none\"/>\n",
              "    <path d=\"M18.56 5.44l.94 2.06.94-2.06 2.06-.94-2.06-.94-.94-2.06-.94 2.06-2.06.94zm-11 1L8.5 8.5l.94-2.06 2.06-.94-2.06-.94L8.5 2.5l-.94 2.06-2.06.94zm10 10l.94 2.06.94-2.06 2.06-.94-2.06-.94-.94-2.06-.94 2.06-2.06.94z\"/><path d=\"M17.41 7.96l-1.37-1.37c-.4-.4-.92-.59-1.43-.59-.52 0-1.04.2-1.43.59L10.3 9.45l-7.72 7.72c-.78.78-.78 2.05 0 2.83L4 21.41c.39.39.9.59 1.41.59.51 0 1.02-.2 1.41-.59l7.78-7.78 2.81-2.81c.8-.78.8-2.07 0-2.86zM5.41 20L4 18.59l7.72-7.72 1.47 1.35L5.41 20z\"/>\n",
              "  </svg>\n",
              "      </button>\n",
              "      \n",
              "  <style>\n",
              "    .colab-df-container {\n",
              "      display:flex;\n",
              "      flex-wrap:wrap;\n",
              "      gap: 12px;\n",
              "    }\n",
              "\n",
              "    .colab-df-convert {\n",
              "      background-color: #E8F0FE;\n",
              "      border: none;\n",
              "      border-radius: 50%;\n",
              "      cursor: pointer;\n",
              "      display: none;\n",
              "      fill: #1967D2;\n",
              "      height: 32px;\n",
              "      padding: 0 0 0 0;\n",
              "      width: 32px;\n",
              "    }\n",
              "\n",
              "    .colab-df-convert:hover {\n",
              "      background-color: #E2EBFA;\n",
              "      box-shadow: 0px 1px 2px rgba(60, 64, 67, 0.3), 0px 1px 3px 1px rgba(60, 64, 67, 0.15);\n",
              "      fill: #174EA6;\n",
              "    }\n",
              "\n",
              "    [theme=dark] .colab-df-convert {\n",
              "      background-color: #3B4455;\n",
              "      fill: #D2E3FC;\n",
              "    }\n",
              "\n",
              "    [theme=dark] .colab-df-convert:hover {\n",
              "      background-color: #434B5C;\n",
              "      box-shadow: 0px 1px 3px 1px rgba(0, 0, 0, 0.15);\n",
              "      filter: drop-shadow(0px 1px 2px rgba(0, 0, 0, 0.3));\n",
              "      fill: #FFFFFF;\n",
              "    }\n",
              "  </style>\n",
              "\n",
              "      <script>\n",
              "        const buttonEl =\n",
              "          document.querySelector('#df-e5e91e2f-1b5d-47e8-93f2-7824d3864c66 button.colab-df-convert');\n",
              "        buttonEl.style.display =\n",
              "          google.colab.kernel.accessAllowed ? 'block' : 'none';\n",
              "\n",
              "        async function convertToInteractive(key) {\n",
              "          const element = document.querySelector('#df-e5e91e2f-1b5d-47e8-93f2-7824d3864c66');\n",
              "          const dataTable =\n",
              "            await google.colab.kernel.invokeFunction('convertToInteractive',\n",
              "                                                     [key], {});\n",
              "          if (!dataTable) return;\n",
              "\n",
              "          const docLinkHtml = 'Like what you see? Visit the ' +\n",
              "            '<a target=\"_blank\" href=https://colab.research.google.com/notebooks/data_table.ipynb>data table notebook</a>'\n",
              "            + ' to learn more about interactive tables.';\n",
              "          element.innerHTML = '';\n",
              "          dataTable['output_type'] = 'display_data';\n",
              "          await google.colab.output.renderOutput(dataTable, element);\n",
              "          const docLink = document.createElement('div');\n",
              "          docLink.innerHTML = docLinkHtml;\n",
              "          element.appendChild(docLink);\n",
              "        }\n",
              "      </script>\n",
              "    </div>\n",
              "  </div>\n",
              "  "
            ]
          },
          "metadata": {},
          "execution_count": 90
        }
      ]
    },
    {
      "cell_type": "markdown",
      "source": [
        "# 6. Split the ID variable into 3 parts (county_code, subcounty_code, wpt_code) using the hyphen as  the separator. "
      ],
      "metadata": {
        "id": "D0xdw6Pw7q6_"
      }
    },
    {
      "cell_type": "code",
      "source": [
        ""
      ],
      "metadata": {
        "id": "rf9_ej3Vbk7G"
      },
      "execution_count": null,
      "outputs": []
    },
    {
      "cell_type": "markdown",
      "source": [
        "# 7. Clean the gender variable and report the proportion of male respondent (variable: gender)"
      ],
      "metadata": {
        "id": "XcNQooWhQpNy"
      }
    },
    {
      "cell_type": "markdown",
      "source": [
        "## Types of unique values in Gender column."
      ],
      "metadata": {
        "id": "R1MK1EbPQwyP"
      }
    },
    {
      "cell_type": "code",
      "source": [
        "# Get the unique items in the 'Gender' column\n",
        "unique_items=mock.Gender.unique()\n",
        "unique_items"
      ],
      "metadata": {
        "colab": {
          "base_uri": "https://localhost:8080/"
        },
        "id": "8T8FUI8nSUpN",
        "outputId": "46239840-2887-4195-e906-e1d87ce0ea63"
      },
      "execution_count": 91,
      "outputs": [
        {
          "output_type": "execute_result",
          "data": {
            "text/plain": [
              "array(['bigender', 'female', 'polygender', 'male', 'non-binary',\n",
              "       'agender', 'genderqueer', 'genderfluid'], dtype=object)"
            ]
          },
          "metadata": {},
          "execution_count": 91
        }
      ]
    },
    {
      "cell_type": "markdown",
      "source": [
        "## Number of unique values in Gender column."
      ],
      "metadata": {
        "id": "LRH-uRKWSvij"
      }
    },
    {
      "cell_type": "code",
      "source": [
        "# Get the value counts for the unique items in the Gender column\n",
        "mock.Gender.nunique()"
      ],
      "metadata": {
        "colab": {
          "base_uri": "https://localhost:8080/"
        },
        "id": "SWSCCNgMQ5i_",
        "outputId": "f26cfa87-8769-4d7a-ee8b-729a9c7f9fdf"
      },
      "execution_count": 92,
      "outputs": [
        {
          "output_type": "execute_result",
          "data": {
            "text/plain": [
              "8"
            ]
          },
          "metadata": {},
          "execution_count": 92
        }
      ]
    },
    {
      "cell_type": "markdown",
      "source": [
        "## Male count in Gender column."
      ],
      "metadata": {
        "id": "7Hbvw01gS1ze"
      }
    },
    {
      "cell_type": "code",
      "source": [
        "# The value count for the male in Gender column\n",
        "mock['Gender'].value_counts().male"
      ],
      "metadata": {
        "colab": {
          "base_uri": "https://localhost:8080/"
        },
        "id": "OwDBysGwPobk",
        "outputId": "368f0263-a042-4eac-f467-b9a689de6243"
      },
      "execution_count": 93,
      "outputs": [
        {
          "output_type": "execute_result",
          "data": {
            "text/plain": [
              "136"
            ]
          },
          "metadata": {},
          "execution_count": 93
        }
      ]
    },
    {
      "cell_type": "markdown",
      "source": [
        "# 8. Clean the program variable by removing unnecessary words and spaces \n"
      ],
      "metadata": {
        "id": "-iKHIF6-sEZh"
      }
    },
    {
      "cell_type": "code",
      "source": [
        "# Remove any  spaces in the values in Program column.\n",
        "mock.program = mock.program.str.replace(' ', '')"
      ],
      "metadata": {
        "id": "BJcvj2edrv48"
      },
      "execution_count": 97,
      "outputs": []
    },
    {
      "cell_type": "code",
      "source": [
        "mock.head()"
      ],
      "metadata": {
        "colab": {
          "base_uri": "https://localhost:8080/",
          "height": 206
        },
        "id": "q816eZ6vr8xN",
        "outputId": "8f817a20-1242-4d9a-fe19-72f6080804fe"
      },
      "execution_count": 98,
      "outputs": [
        {
          "output_type": "execute_result",
          "data": {
            "text/plain": [
              "              ID                          Wpt_Name     County     Subcounty  \\\n",
              "0  341-074-eh498                    aufderhar-bins    fenshui           NaN   \n",
              "1  562-184-qy233                          von-kuhn  chengyang         qilin   \n",
              "2  242-833-hc888                       leannon llc      kista     itajuã­pe   \n",
              "3  773-513-li203  prohaska, vonrueden and franecki       hexi      portumna   \n",
              "4  933-270-vd590                  mcclure and sons   carvalho  dziä™gielã³w   \n",
              "\n",
              "       Gender       IP_Adress     Barcode  dispenser_install_year  program  \n",
              "0    bigender    99-35-53-139   42283-004                  1993.0  kibuku1  \n",
              "1      female    99-220-88-86   45802-132                  1998.0  kibuku2  \n",
              "2  polygender  99-158-200-170   59676-562                  1996.0  kibuku3  \n",
              "3        male  99-131-237-138   49035-154                  1992.0  kibuku4  \n",
              "4      female   98-86-173-226  55154-4727                  2008.0  kibuku2  "
            ],
            "text/html": [
              "\n",
              "  <div id=\"df-4e7a0385-8f5d-4ef6-9daa-426ca15c9ef0\">\n",
              "    <div class=\"colab-df-container\">\n",
              "      <div>\n",
              "<style scoped>\n",
              "    .dataframe tbody tr th:only-of-type {\n",
              "        vertical-align: middle;\n",
              "    }\n",
              "\n",
              "    .dataframe tbody tr th {\n",
              "        vertical-align: top;\n",
              "    }\n",
              "\n",
              "    .dataframe thead th {\n",
              "        text-align: right;\n",
              "    }\n",
              "</style>\n",
              "<table border=\"1\" class=\"dataframe\">\n",
              "  <thead>\n",
              "    <tr style=\"text-align: right;\">\n",
              "      <th></th>\n",
              "      <th>ID</th>\n",
              "      <th>Wpt_Name</th>\n",
              "      <th>County</th>\n",
              "      <th>Subcounty</th>\n",
              "      <th>Gender</th>\n",
              "      <th>IP_Adress</th>\n",
              "      <th>Barcode</th>\n",
              "      <th>dispenser_install_year</th>\n",
              "      <th>program</th>\n",
              "    </tr>\n",
              "  </thead>\n",
              "  <tbody>\n",
              "    <tr>\n",
              "      <th>0</th>\n",
              "      <td>341-074-eh498</td>\n",
              "      <td>aufderhar-bins</td>\n",
              "      <td>fenshui</td>\n",
              "      <td>NaN</td>\n",
              "      <td>bigender</td>\n",
              "      <td>99-35-53-139</td>\n",
              "      <td>42283-004</td>\n",
              "      <td>1993.0</td>\n",
              "      <td>kibuku1</td>\n",
              "    </tr>\n",
              "    <tr>\n",
              "      <th>1</th>\n",
              "      <td>562-184-qy233</td>\n",
              "      <td>von-kuhn</td>\n",
              "      <td>chengyang</td>\n",
              "      <td>qilin</td>\n",
              "      <td>female</td>\n",
              "      <td>99-220-88-86</td>\n",
              "      <td>45802-132</td>\n",
              "      <td>1998.0</td>\n",
              "      <td>kibuku2</td>\n",
              "    </tr>\n",
              "    <tr>\n",
              "      <th>2</th>\n",
              "      <td>242-833-hc888</td>\n",
              "      <td>leannon llc</td>\n",
              "      <td>kista</td>\n",
              "      <td>itajuã­pe</td>\n",
              "      <td>polygender</td>\n",
              "      <td>99-158-200-170</td>\n",
              "      <td>59676-562</td>\n",
              "      <td>1996.0</td>\n",
              "      <td>kibuku3</td>\n",
              "    </tr>\n",
              "    <tr>\n",
              "      <th>3</th>\n",
              "      <td>773-513-li203</td>\n",
              "      <td>prohaska, vonrueden and franecki</td>\n",
              "      <td>hexi</td>\n",
              "      <td>portumna</td>\n",
              "      <td>male</td>\n",
              "      <td>99-131-237-138</td>\n",
              "      <td>49035-154</td>\n",
              "      <td>1992.0</td>\n",
              "      <td>kibuku4</td>\n",
              "    </tr>\n",
              "    <tr>\n",
              "      <th>4</th>\n",
              "      <td>933-270-vd590</td>\n",
              "      <td>mcclure and sons</td>\n",
              "      <td>carvalho</td>\n",
              "      <td>dziä™gielã³w</td>\n",
              "      <td>female</td>\n",
              "      <td>98-86-173-226</td>\n",
              "      <td>55154-4727</td>\n",
              "      <td>2008.0</td>\n",
              "      <td>kibuku2</td>\n",
              "    </tr>\n",
              "  </tbody>\n",
              "</table>\n",
              "</div>\n",
              "      <button class=\"colab-df-convert\" onclick=\"convertToInteractive('df-4e7a0385-8f5d-4ef6-9daa-426ca15c9ef0')\"\n",
              "              title=\"Convert this dataframe to an interactive table.\"\n",
              "              style=\"display:none;\">\n",
              "        \n",
              "  <svg xmlns=\"http://www.w3.org/2000/svg\" height=\"24px\"viewBox=\"0 0 24 24\"\n",
              "       width=\"24px\">\n",
              "    <path d=\"M0 0h24v24H0V0z\" fill=\"none\"/>\n",
              "    <path d=\"M18.56 5.44l.94 2.06.94-2.06 2.06-.94-2.06-.94-.94-2.06-.94 2.06-2.06.94zm-11 1L8.5 8.5l.94-2.06 2.06-.94-2.06-.94L8.5 2.5l-.94 2.06-2.06.94zm10 10l.94 2.06.94-2.06 2.06-.94-2.06-.94-.94-2.06-.94 2.06-2.06.94z\"/><path d=\"M17.41 7.96l-1.37-1.37c-.4-.4-.92-.59-1.43-.59-.52 0-1.04.2-1.43.59L10.3 9.45l-7.72 7.72c-.78.78-.78 2.05 0 2.83L4 21.41c.39.39.9.59 1.41.59.51 0 1.02-.2 1.41-.59l7.78-7.78 2.81-2.81c.8-.78.8-2.07 0-2.86zM5.41 20L4 18.59l7.72-7.72 1.47 1.35L5.41 20z\"/>\n",
              "  </svg>\n",
              "      </button>\n",
              "      \n",
              "  <style>\n",
              "    .colab-df-container {\n",
              "      display:flex;\n",
              "      flex-wrap:wrap;\n",
              "      gap: 12px;\n",
              "    }\n",
              "\n",
              "    .colab-df-convert {\n",
              "      background-color: #E8F0FE;\n",
              "      border: none;\n",
              "      border-radius: 50%;\n",
              "      cursor: pointer;\n",
              "      display: none;\n",
              "      fill: #1967D2;\n",
              "      height: 32px;\n",
              "      padding: 0 0 0 0;\n",
              "      width: 32px;\n",
              "    }\n",
              "\n",
              "    .colab-df-convert:hover {\n",
              "      background-color: #E2EBFA;\n",
              "      box-shadow: 0px 1px 2px rgba(60, 64, 67, 0.3), 0px 1px 3px 1px rgba(60, 64, 67, 0.15);\n",
              "      fill: #174EA6;\n",
              "    }\n",
              "\n",
              "    [theme=dark] .colab-df-convert {\n",
              "      background-color: #3B4455;\n",
              "      fill: #D2E3FC;\n",
              "    }\n",
              "\n",
              "    [theme=dark] .colab-df-convert:hover {\n",
              "      background-color: #434B5C;\n",
              "      box-shadow: 0px 1px 3px 1px rgba(0, 0, 0, 0.15);\n",
              "      filter: drop-shadow(0px 1px 2px rgba(0, 0, 0, 0.3));\n",
              "      fill: #FFFFFF;\n",
              "    }\n",
              "  </style>\n",
              "\n",
              "      <script>\n",
              "        const buttonEl =\n",
              "          document.querySelector('#df-4e7a0385-8f5d-4ef6-9daa-426ca15c9ef0 button.colab-df-convert');\n",
              "        buttonEl.style.display =\n",
              "          google.colab.kernel.accessAllowed ? 'block' : 'none';\n",
              "\n",
              "        async function convertToInteractive(key) {\n",
              "          const element = document.querySelector('#df-4e7a0385-8f5d-4ef6-9daa-426ca15c9ef0');\n",
              "          const dataTable =\n",
              "            await google.colab.kernel.invokeFunction('convertToInteractive',\n",
              "                                                     [key], {});\n",
              "          if (!dataTable) return;\n",
              "\n",
              "          const docLinkHtml = 'Like what you see? Visit the ' +\n",
              "            '<a target=\"_blank\" href=https://colab.research.google.com/notebooks/data_table.ipynb>data table notebook</a>'\n",
              "            + ' to learn more about interactive tables.';\n",
              "          element.innerHTML = '';\n",
              "          dataTable['output_type'] = 'display_data';\n",
              "          await google.colab.output.renderOutput(dataTable, element);\n",
              "          const docLink = document.createElement('div');\n",
              "          docLink.innerHTML = docLinkHtml;\n",
              "          element.appendChild(docLink);\n",
              "        }\n",
              "      </script>\n",
              "    </div>\n",
              "  </div>\n",
              "  "
            ]
          },
          "metadata": {},
          "execution_count": 98
        }
      ]
    },
    {
      "cell_type": "markdown",
      "source": [
        "# 9. Change the font case for program variable to proper (capitalize the first letter) "
      ],
      "metadata": {
        "id": "J_BTgSz7sQbI"
      }
    },
    {
      "cell_type": "code",
      "source": [
        "# Change variables in Program column to title case\n",
        "mock['program']= mock['program'].str.title()"
      ],
      "metadata": {
        "id": "6ZfW12ovsIMc"
      },
      "execution_count": 101,
      "outputs": []
    },
    {
      "cell_type": "code",
      "source": [
        "mock.head()"
      ],
      "metadata": {
        "colab": {
          "base_uri": "https://localhost:8080/",
          "height": 206
        },
        "id": "CmgL7XhitLLZ",
        "outputId": "4582230f-b182-47c1-9e29-be0a44d06449"
      },
      "execution_count": 102,
      "outputs": [
        {
          "output_type": "execute_result",
          "data": {
            "text/plain": [
              "              ID                          Wpt_Name     County     Subcounty  \\\n",
              "0  341-074-eh498                    aufderhar-bins    fenshui           NaN   \n",
              "1  562-184-qy233                          von-kuhn  chengyang         qilin   \n",
              "2  242-833-hc888                       leannon llc      kista     itajuã­pe   \n",
              "3  773-513-li203  prohaska, vonrueden and franecki       hexi      portumna   \n",
              "4  933-270-vd590                  mcclure and sons   carvalho  dziä™gielã³w   \n",
              "\n",
              "       Gender       IP_Adress     Barcode  dispenser_install_year  program  \n",
              "0    bigender    99-35-53-139   42283-004                  1993.0  Kibuku1  \n",
              "1      female    99-220-88-86   45802-132                  1998.0  Kibuku2  \n",
              "2  polygender  99-158-200-170   59676-562                  1996.0  Kibuku3  \n",
              "3        male  99-131-237-138   49035-154                  1992.0  Kibuku4  \n",
              "4      female   98-86-173-226  55154-4727                  2008.0  Kibuku2  "
            ],
            "text/html": [
              "\n",
              "  <div id=\"df-2ce3f470-d6dd-4e0e-a7e8-095e0c18baf2\">\n",
              "    <div class=\"colab-df-container\">\n",
              "      <div>\n",
              "<style scoped>\n",
              "    .dataframe tbody tr th:only-of-type {\n",
              "        vertical-align: middle;\n",
              "    }\n",
              "\n",
              "    .dataframe tbody tr th {\n",
              "        vertical-align: top;\n",
              "    }\n",
              "\n",
              "    .dataframe thead th {\n",
              "        text-align: right;\n",
              "    }\n",
              "</style>\n",
              "<table border=\"1\" class=\"dataframe\">\n",
              "  <thead>\n",
              "    <tr style=\"text-align: right;\">\n",
              "      <th></th>\n",
              "      <th>ID</th>\n",
              "      <th>Wpt_Name</th>\n",
              "      <th>County</th>\n",
              "      <th>Subcounty</th>\n",
              "      <th>Gender</th>\n",
              "      <th>IP_Adress</th>\n",
              "      <th>Barcode</th>\n",
              "      <th>dispenser_install_year</th>\n",
              "      <th>program</th>\n",
              "    </tr>\n",
              "  </thead>\n",
              "  <tbody>\n",
              "    <tr>\n",
              "      <th>0</th>\n",
              "      <td>341-074-eh498</td>\n",
              "      <td>aufderhar-bins</td>\n",
              "      <td>fenshui</td>\n",
              "      <td>NaN</td>\n",
              "      <td>bigender</td>\n",
              "      <td>99-35-53-139</td>\n",
              "      <td>42283-004</td>\n",
              "      <td>1993.0</td>\n",
              "      <td>Kibuku1</td>\n",
              "    </tr>\n",
              "    <tr>\n",
              "      <th>1</th>\n",
              "      <td>562-184-qy233</td>\n",
              "      <td>von-kuhn</td>\n",
              "      <td>chengyang</td>\n",
              "      <td>qilin</td>\n",
              "      <td>female</td>\n",
              "      <td>99-220-88-86</td>\n",
              "      <td>45802-132</td>\n",
              "      <td>1998.0</td>\n",
              "      <td>Kibuku2</td>\n",
              "    </tr>\n",
              "    <tr>\n",
              "      <th>2</th>\n",
              "      <td>242-833-hc888</td>\n",
              "      <td>leannon llc</td>\n",
              "      <td>kista</td>\n",
              "      <td>itajuã­pe</td>\n",
              "      <td>polygender</td>\n",
              "      <td>99-158-200-170</td>\n",
              "      <td>59676-562</td>\n",
              "      <td>1996.0</td>\n",
              "      <td>Kibuku3</td>\n",
              "    </tr>\n",
              "    <tr>\n",
              "      <th>3</th>\n",
              "      <td>773-513-li203</td>\n",
              "      <td>prohaska, vonrueden and franecki</td>\n",
              "      <td>hexi</td>\n",
              "      <td>portumna</td>\n",
              "      <td>male</td>\n",
              "      <td>99-131-237-138</td>\n",
              "      <td>49035-154</td>\n",
              "      <td>1992.0</td>\n",
              "      <td>Kibuku4</td>\n",
              "    </tr>\n",
              "    <tr>\n",
              "      <th>4</th>\n",
              "      <td>933-270-vd590</td>\n",
              "      <td>mcclure and sons</td>\n",
              "      <td>carvalho</td>\n",
              "      <td>dziä™gielã³w</td>\n",
              "      <td>female</td>\n",
              "      <td>98-86-173-226</td>\n",
              "      <td>55154-4727</td>\n",
              "      <td>2008.0</td>\n",
              "      <td>Kibuku2</td>\n",
              "    </tr>\n",
              "  </tbody>\n",
              "</table>\n",
              "</div>\n",
              "      <button class=\"colab-df-convert\" onclick=\"convertToInteractive('df-2ce3f470-d6dd-4e0e-a7e8-095e0c18baf2')\"\n",
              "              title=\"Convert this dataframe to an interactive table.\"\n",
              "              style=\"display:none;\">\n",
              "        \n",
              "  <svg xmlns=\"http://www.w3.org/2000/svg\" height=\"24px\"viewBox=\"0 0 24 24\"\n",
              "       width=\"24px\">\n",
              "    <path d=\"M0 0h24v24H0V0z\" fill=\"none\"/>\n",
              "    <path d=\"M18.56 5.44l.94 2.06.94-2.06 2.06-.94-2.06-.94-.94-2.06-.94 2.06-2.06.94zm-11 1L8.5 8.5l.94-2.06 2.06-.94-2.06-.94L8.5 2.5l-.94 2.06-2.06.94zm10 10l.94 2.06.94-2.06 2.06-.94-2.06-.94-.94-2.06-.94 2.06-2.06.94z\"/><path d=\"M17.41 7.96l-1.37-1.37c-.4-.4-.92-.59-1.43-.59-.52 0-1.04.2-1.43.59L10.3 9.45l-7.72 7.72c-.78.78-.78 2.05 0 2.83L4 21.41c.39.39.9.59 1.41.59.51 0 1.02-.2 1.41-.59l7.78-7.78 2.81-2.81c.8-.78.8-2.07 0-2.86zM5.41 20L4 18.59l7.72-7.72 1.47 1.35L5.41 20z\"/>\n",
              "  </svg>\n",
              "      </button>\n",
              "      \n",
              "  <style>\n",
              "    .colab-df-container {\n",
              "      display:flex;\n",
              "      flex-wrap:wrap;\n",
              "      gap: 12px;\n",
              "    }\n",
              "\n",
              "    .colab-df-convert {\n",
              "      background-color: #E8F0FE;\n",
              "      border: none;\n",
              "      border-radius: 50%;\n",
              "      cursor: pointer;\n",
              "      display: none;\n",
              "      fill: #1967D2;\n",
              "      height: 32px;\n",
              "      padding: 0 0 0 0;\n",
              "      width: 32px;\n",
              "    }\n",
              "\n",
              "    .colab-df-convert:hover {\n",
              "      background-color: #E2EBFA;\n",
              "      box-shadow: 0px 1px 2px rgba(60, 64, 67, 0.3), 0px 1px 3px 1px rgba(60, 64, 67, 0.15);\n",
              "      fill: #174EA6;\n",
              "    }\n",
              "\n",
              "    [theme=dark] .colab-df-convert {\n",
              "      background-color: #3B4455;\n",
              "      fill: #D2E3FC;\n",
              "    }\n",
              "\n",
              "    [theme=dark] .colab-df-convert:hover {\n",
              "      background-color: #434B5C;\n",
              "      box-shadow: 0px 1px 3px 1px rgba(0, 0, 0, 0.15);\n",
              "      filter: drop-shadow(0px 1px 2px rgba(0, 0, 0, 0.3));\n",
              "      fill: #FFFFFF;\n",
              "    }\n",
              "  </style>\n",
              "\n",
              "      <script>\n",
              "        const buttonEl =\n",
              "          document.querySelector('#df-2ce3f470-d6dd-4e0e-a7e8-095e0c18baf2 button.colab-df-convert');\n",
              "        buttonEl.style.display =\n",
              "          google.colab.kernel.accessAllowed ? 'block' : 'none';\n",
              "\n",
              "        async function convertToInteractive(key) {\n",
              "          const element = document.querySelector('#df-2ce3f470-d6dd-4e0e-a7e8-095e0c18baf2');\n",
              "          const dataTable =\n",
              "            await google.colab.kernel.invokeFunction('convertToInteractive',\n",
              "                                                     [key], {});\n",
              "          if (!dataTable) return;\n",
              "\n",
              "          const docLinkHtml = 'Like what you see? Visit the ' +\n",
              "            '<a target=\"_blank\" href=https://colab.research.google.com/notebooks/data_table.ipynb>data table notebook</a>'\n",
              "            + ' to learn more about interactive tables.';\n",
              "          element.innerHTML = '';\n",
              "          dataTable['output_type'] = 'display_data';\n",
              "          await google.colab.output.renderOutput(dataTable, element);\n",
              "          const docLink = document.createElement('div');\n",
              "          docLink.innerHTML = docLinkHtml;\n",
              "          element.appendChild(docLink);\n",
              "        }\n",
              "      </script>\n",
              "    </div>\n",
              "  </div>\n",
              "  "
            ]
          },
          "metadata": {},
          "execution_count": 102
        }
      ]
    },
    {
      "cell_type": "markdown",
      "source": [
        "# 10. Combine Kibuku 1 to Kibuku 4 in program variable into Kibuku"
      ],
      "metadata": {
        "id": "Axwn-Nf3tdew"
      }
    },
    {
      "cell_type": "code",
      "source": [
        "mock.columns"
      ],
      "metadata": {
        "colab": {
          "base_uri": "https://localhost:8080/"
        },
        "id": "1OofRIXtV8qM",
        "outputId": "63dd9c84-a122-4e25-8afd-b997ba74de7b"
      },
      "execution_count": 112,
      "outputs": [
        {
          "output_type": "execute_result",
          "data": {
            "text/plain": [
              "Index(['ID', 'Wpt_Name', 'County', 'Subcounty', 'Gender', 'IP_Adress',\n",
              "       'Barcode', 'dispenser_install_year', 'program'],\n",
              "      dtype='object')"
            ]
          },
          "metadata": {},
          "execution_count": 112
        }
      ]
    },
    {
      "cell_type": "code",
      "source": [
        "#replace Kibuku1 as Kibuku4\n",
        "mock['program'] = mock['program'].str.replace('Kibuku1', 'Kibuku4')\n"
      ],
      "metadata": {
        "id": "ceOQ85x7tgjl"
      },
      "execution_count": 117,
      "outputs": []
    },
    {
      "cell_type": "code",
      "source": [
        "mock.head()"
      ],
      "metadata": {
        "colab": {
          "base_uri": "https://localhost:8080/",
          "height": 206
        },
        "id": "G_nkn1S9WXyZ",
        "outputId": "dbd905ed-079e-4546-e0a3-2e4cfb7415a6"
      },
      "execution_count": 118,
      "outputs": [
        {
          "output_type": "execute_result",
          "data": {
            "text/plain": [
              "              ID                          Wpt_Name     County     Subcounty  \\\n",
              "0  341-074-eh498                    aufderhar-bins    fenshui           NaN   \n",
              "1  562-184-qy233                          von-kuhn  chengyang         qilin   \n",
              "2  242-833-hc888                       leannon llc      kista     itajuã­pe   \n",
              "3  773-513-li203  prohaska, vonrueden and franecki       hexi      portumna   \n",
              "4  933-270-vd590                  mcclure and sons   carvalho  dziä™gielã³w   \n",
              "\n",
              "       Gender       IP_Adress     Barcode  dispenser_install_year  program  \n",
              "0    bigender    99-35-53-139   42283-004                  1993.0  Kibuku4  \n",
              "1      female    99-220-88-86   45802-132                  1998.0  Kibuku2  \n",
              "2  polygender  99-158-200-170   59676-562                  1996.0  Kibuku3  \n",
              "3        male  99-131-237-138   49035-154                  1992.0  Kibuku4  \n",
              "4      female   98-86-173-226  55154-4727                  2008.0  Kibuku2  "
            ],
            "text/html": [
              "\n",
              "  <div id=\"df-ceb3ff8f-40e8-49c6-9df6-81d00e55e50c\">\n",
              "    <div class=\"colab-df-container\">\n",
              "      <div>\n",
              "<style scoped>\n",
              "    .dataframe tbody tr th:only-of-type {\n",
              "        vertical-align: middle;\n",
              "    }\n",
              "\n",
              "    .dataframe tbody tr th {\n",
              "        vertical-align: top;\n",
              "    }\n",
              "\n",
              "    .dataframe thead th {\n",
              "        text-align: right;\n",
              "    }\n",
              "</style>\n",
              "<table border=\"1\" class=\"dataframe\">\n",
              "  <thead>\n",
              "    <tr style=\"text-align: right;\">\n",
              "      <th></th>\n",
              "      <th>ID</th>\n",
              "      <th>Wpt_Name</th>\n",
              "      <th>County</th>\n",
              "      <th>Subcounty</th>\n",
              "      <th>Gender</th>\n",
              "      <th>IP_Adress</th>\n",
              "      <th>Barcode</th>\n",
              "      <th>dispenser_install_year</th>\n",
              "      <th>program</th>\n",
              "    </tr>\n",
              "  </thead>\n",
              "  <tbody>\n",
              "    <tr>\n",
              "      <th>0</th>\n",
              "      <td>341-074-eh498</td>\n",
              "      <td>aufderhar-bins</td>\n",
              "      <td>fenshui</td>\n",
              "      <td>NaN</td>\n",
              "      <td>bigender</td>\n",
              "      <td>99-35-53-139</td>\n",
              "      <td>42283-004</td>\n",
              "      <td>1993.0</td>\n",
              "      <td>Kibuku4</td>\n",
              "    </tr>\n",
              "    <tr>\n",
              "      <th>1</th>\n",
              "      <td>562-184-qy233</td>\n",
              "      <td>von-kuhn</td>\n",
              "      <td>chengyang</td>\n",
              "      <td>qilin</td>\n",
              "      <td>female</td>\n",
              "      <td>99-220-88-86</td>\n",
              "      <td>45802-132</td>\n",
              "      <td>1998.0</td>\n",
              "      <td>Kibuku2</td>\n",
              "    </tr>\n",
              "    <tr>\n",
              "      <th>2</th>\n",
              "      <td>242-833-hc888</td>\n",
              "      <td>leannon llc</td>\n",
              "      <td>kista</td>\n",
              "      <td>itajuã­pe</td>\n",
              "      <td>polygender</td>\n",
              "      <td>99-158-200-170</td>\n",
              "      <td>59676-562</td>\n",
              "      <td>1996.0</td>\n",
              "      <td>Kibuku3</td>\n",
              "    </tr>\n",
              "    <tr>\n",
              "      <th>3</th>\n",
              "      <td>773-513-li203</td>\n",
              "      <td>prohaska, vonrueden and franecki</td>\n",
              "      <td>hexi</td>\n",
              "      <td>portumna</td>\n",
              "      <td>male</td>\n",
              "      <td>99-131-237-138</td>\n",
              "      <td>49035-154</td>\n",
              "      <td>1992.0</td>\n",
              "      <td>Kibuku4</td>\n",
              "    </tr>\n",
              "    <tr>\n",
              "      <th>4</th>\n",
              "      <td>933-270-vd590</td>\n",
              "      <td>mcclure and sons</td>\n",
              "      <td>carvalho</td>\n",
              "      <td>dziä™gielã³w</td>\n",
              "      <td>female</td>\n",
              "      <td>98-86-173-226</td>\n",
              "      <td>55154-4727</td>\n",
              "      <td>2008.0</td>\n",
              "      <td>Kibuku2</td>\n",
              "    </tr>\n",
              "  </tbody>\n",
              "</table>\n",
              "</div>\n",
              "      <button class=\"colab-df-convert\" onclick=\"convertToInteractive('df-ceb3ff8f-40e8-49c6-9df6-81d00e55e50c')\"\n",
              "              title=\"Convert this dataframe to an interactive table.\"\n",
              "              style=\"display:none;\">\n",
              "        \n",
              "  <svg xmlns=\"http://www.w3.org/2000/svg\" height=\"24px\"viewBox=\"0 0 24 24\"\n",
              "       width=\"24px\">\n",
              "    <path d=\"M0 0h24v24H0V0z\" fill=\"none\"/>\n",
              "    <path d=\"M18.56 5.44l.94 2.06.94-2.06 2.06-.94-2.06-.94-.94-2.06-.94 2.06-2.06.94zm-11 1L8.5 8.5l.94-2.06 2.06-.94-2.06-.94L8.5 2.5l-.94 2.06-2.06.94zm10 10l.94 2.06.94-2.06 2.06-.94-2.06-.94-.94-2.06-.94 2.06-2.06.94z\"/><path d=\"M17.41 7.96l-1.37-1.37c-.4-.4-.92-.59-1.43-.59-.52 0-1.04.2-1.43.59L10.3 9.45l-7.72 7.72c-.78.78-.78 2.05 0 2.83L4 21.41c.39.39.9.59 1.41.59.51 0 1.02-.2 1.41-.59l7.78-7.78 2.81-2.81c.8-.78.8-2.07 0-2.86zM5.41 20L4 18.59l7.72-7.72 1.47 1.35L5.41 20z\"/>\n",
              "  </svg>\n",
              "      </button>\n",
              "      \n",
              "  <style>\n",
              "    .colab-df-container {\n",
              "      display:flex;\n",
              "      flex-wrap:wrap;\n",
              "      gap: 12px;\n",
              "    }\n",
              "\n",
              "    .colab-df-convert {\n",
              "      background-color: #E8F0FE;\n",
              "      border: none;\n",
              "      border-radius: 50%;\n",
              "      cursor: pointer;\n",
              "      display: none;\n",
              "      fill: #1967D2;\n",
              "      height: 32px;\n",
              "      padding: 0 0 0 0;\n",
              "      width: 32px;\n",
              "    }\n",
              "\n",
              "    .colab-df-convert:hover {\n",
              "      background-color: #E2EBFA;\n",
              "      box-shadow: 0px 1px 2px rgba(60, 64, 67, 0.3), 0px 1px 3px 1px rgba(60, 64, 67, 0.15);\n",
              "      fill: #174EA6;\n",
              "    }\n",
              "\n",
              "    [theme=dark] .colab-df-convert {\n",
              "      background-color: #3B4455;\n",
              "      fill: #D2E3FC;\n",
              "    }\n",
              "\n",
              "    [theme=dark] .colab-df-convert:hover {\n",
              "      background-color: #434B5C;\n",
              "      box-shadow: 0px 1px 3px 1px rgba(0, 0, 0, 0.15);\n",
              "      filter: drop-shadow(0px 1px 2px rgba(0, 0, 0, 0.3));\n",
              "      fill: #FFFFFF;\n",
              "    }\n",
              "  </style>\n",
              "\n",
              "      <script>\n",
              "        const buttonEl =\n",
              "          document.querySelector('#df-ceb3ff8f-40e8-49c6-9df6-81d00e55e50c button.colab-df-convert');\n",
              "        buttonEl.style.display =\n",
              "          google.colab.kernel.accessAllowed ? 'block' : 'none';\n",
              "\n",
              "        async function convertToInteractive(key) {\n",
              "          const element = document.querySelector('#df-ceb3ff8f-40e8-49c6-9df6-81d00e55e50c');\n",
              "          const dataTable =\n",
              "            await google.colab.kernel.invokeFunction('convertToInteractive',\n",
              "                                                     [key], {});\n",
              "          if (!dataTable) return;\n",
              "\n",
              "          const docLinkHtml = 'Like what you see? Visit the ' +\n",
              "            '<a target=\"_blank\" href=https://colab.research.google.com/notebooks/data_table.ipynb>data table notebook</a>'\n",
              "            + ' to learn more about interactive tables.';\n",
              "          element.innerHTML = '';\n",
              "          dataTable['output_type'] = 'display_data';\n",
              "          await google.colab.output.renderOutput(dataTable, element);\n",
              "          const docLink = document.createElement('div');\n",
              "          docLink.innerHTML = docLinkHtml;\n",
              "          element.appendChild(docLink);\n",
              "        }\n",
              "      </script>\n",
              "    </div>\n",
              "  </div>\n",
              "  "
            ]
          },
          "metadata": {},
          "execution_count": 118
        }
      ]
    }
  ]
}